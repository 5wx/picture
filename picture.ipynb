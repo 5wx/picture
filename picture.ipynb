{
 "cells": [
  {
   "cell_type": "code",
   "execution_count": 8,
   "metadata": {},
   "outputs": [],
   "source": [
    "from PIL import Image"
   ]
  },
  {
   "cell_type": "markdown",
   "metadata": {},
   "source": [
    "# 定义代表灰度的字符"
   ]
  },
  {
   "cell_type": "code",
   "execution_count": 9,
   "metadata": {},
   "outputs": [],
   "source": [
    "ascii_char = list(\"$@B%8&WM#*oahkbdpqwmZO0QLCJUYXzcvunxrjft/\\|()1{}[]?-_+~<>i!lI;:,\\\"^`'. \") #设置显示的字符集"
   ]
  },
  {
   "cell_type": "markdown",
   "metadata": {},
   "source": [
    "# 灰度值映射字符函数"
   ]
  },
  {
   "cell_type": "markdown",
   "metadata": {},
   "source": [
    "将256灰度映射到70个字符上"
   ]
  },
  {
   "cell_type": "code",
   "execution_count": 10,
   "metadata": {},
   "outputs": [],
   "source": [
    "def get_char(r,g,b,alpha = 256):#alpha为透明度\n",
    "    if alpha == 0:# 判断 alpha 值，为0表示全透明 \n",
    "        return ' '\n",
    "    length = len(ascii_char)# 获取字符集的长度，这里为 70\n",
    "    gray = int(0.2126 * r + 0.7152 * g + 0.0722 * b)# 将 RGB 值转为灰度值 gray，灰度值范围为 0-255\n",
    "# 灰度值范围为 0-255，而字符集只有 70\n",
    "# 需要进行如下处理才能将灰度值映射到指定的字符上\n",
    "#防止当灰度值为255时，输出的第70个字符超出列表索引，所以需要将(255+1)\n",
    "    unit = (255.0 + 1)/length\n",
    "# 返回灰度值对应的字符\n",
    "    return ascii_char[int(gray/unit)]"
   ]
  },
  {
   "cell_type": "markdown",
   "metadata": {},
   "source": [
    "# 图片导入及尺寸设置"
   ]
  },
  {
   "cell_type": "code",
   "execution_count": 14,
   "metadata": {
    "scrolled": true
   },
   "outputs": [],
   "source": [
    "IMG = 'P.jpg' #设置图片文件\n",
    "WIDTH = 600#设置字符画的宽\n",
    "HEIGHT = 200#设置字符画的高\n",
    "im = Image.open(IMG)\n",
    "im = im.resize((WIDTH,HEIGHT), Image.NEAREST)"
   ]
  },
  {
   "cell_type": "markdown",
   "metadata": {},
   "source": [
    "# 遍历图片获取字符"
   ]
  },
  {
   "cell_type": "markdown",
   "metadata": {},
   "source": [
    "遍历图片中的每一行"
   ]
  },
  {
   "cell_type": "code",
   "execution_count": 15,
   "metadata": {},
   "outputs": [],
   "source": [
    "txt = ''\n",
    "for i in range(HEIGHT):# 遍历该行中的每一列\n",
    "    for j in range(WIDTH):# 将 (j,i) 坐标的 RGB 像素转为字符后添加到 txt 字符串\n",
    "        txt+= get_char(*im.getpixel((j,i)))\n",
    "# 遍历完一行后需要增加换行符\n",
    "    txt += '\\n'"
   ]
  },
  {
   "cell_type": "markdown",
   "metadata": {},
   "source": [
    "# 字符画输出和导入文件"
   ]
  },
  {
   "cell_type": "markdown",
   "metadata": {},
   "source": [
    "导入文件"
   ]
  },
  {
   "cell_type": "code",
   "execution_count": 16,
   "metadata": {},
   "outputs": [],
   "source": [
    "OUTPUT = 'P.txt' #设置存放字符画的文本文件\n",
    "#保存到文本文件\n",
    "with open(OUTPUT,'w') as f:\n",
    "    f.write(txt)"
   ]
  }
 ],
 "metadata": {
  "kernelspec": {
   "display_name": "Python 3",
   "language": "python",
   "name": "python3"
  },
  "language_info": {
   "codemirror_mode": {
    "name": "ipython",
    "version": 3
   },
   "file_extension": ".py",
   "mimetype": "text/x-python",
   "name": "python",
   "nbconvert_exporter": "python",
   "pygments_lexer": "ipython3",
   "version": "3.7.4"
  }
 },
 "nbformat": 4,
 "nbformat_minor": 2
}
